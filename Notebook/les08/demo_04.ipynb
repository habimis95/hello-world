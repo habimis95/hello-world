{
 "cells": [
  {
   "cell_type": "code",
   "execution_count": 1,
   "metadata": {},
   "outputs": [],
   "source": [
    "import numpy as np\n",
    "import pandas as pd\n",
    "import matplotlib.pyplot as plt\n",
    "import geopandas as gpd\n",
    "import folium"
   ]
  },
  {
   "cell_type": "code",
   "execution_count": 2,
   "metadata": {},
   "outputs": [],
   "source": [
    "world_map = folium.Map()"
   ]
  },
  {
   "cell_type": "code",
   "execution_count": 3,
   "metadata": {},
   "outputs": [
    {
     "data": {
      "text/html": [
       "<div style=\"width:100%;\"><div style=\"position:relative;width:100%;height:0;padding-bottom:60%;\"><iframe src=\"data:text/html;charset=utf-8;base64,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\" style=\"position:absolute;width:100%;height:100%;left:0;top:0;border:none !important;\" allowfullscreen webkitallowfullscreen mozallowfullscreen></iframe></div></div>"
      ],
      "text/plain": [
       "<folium.folium.Map at 0x1247feb8>"
      ]
     },
     "execution_count": 3,
     "metadata": {},
     "output_type": "execute_result"
    }
   ],
   "source": [
    "world_map"
   ]
  },
  {
   "cell_type": "code",
   "execution_count": 4,
   "metadata": {},
   "outputs": [
    {
     "data": {
      "text/html": [
       "<div style=\"width:100%;\"><div style=\"position:relative;width:100%;height:0;padding-bottom:60%;\"><iframe src=\"data:text/html;charset=utf-8;base64,PCFET0NUWVBFIGh0bWw+CjxoZWFkPiAgICAKICAgIDxtZXRhIGh0dHAtZXF1aXY9ImNvbnRlbnQtdHlwZSIgY29udGVudD0idGV4dC9odG1sOyBjaGFyc2V0PVVURi04IiAvPgogICAgPHNjcmlwdD5MX1BSRUZFUl9DQU5WQVM9ZmFsc2U7IExfTk9fVE9VQ0g9ZmFsc2U7IExfRElTQUJMRV8zRD1mYWxzZTs8L3NjcmlwdD4KICAgIDxzY3JpcHQgc3JjPSJodHRwczovL2Nkbi5qc2RlbGl2ci5uZXQvbnBtL2xlYWZsZXRAMS4zLjQvZGlzdC9sZWFmbGV0LmpzIj48L3NjcmlwdD4KICAgIDxzY3JpcHQgc3JjPSJodHRwczovL2FqYXguZ29vZ2xlYXBpcy5jb20vYWpheC9saWJzL2pxdWVyeS8xLjExLjEvanF1ZXJ5Lm1pbi5qcyI+PC9zY3JpcHQ+CiAgICA8c2NyaXB0IHNyYz0iaHR0cHM6Ly9tYXhjZG4uYm9vdHN0cmFwY2RuLmNvbS9ib290c3RyYXAvMy4yLjAvanMvYm9vdHN0cmFwLm1pbi5qcyI+PC9zY3JpcHQ+CiAgICA8c2NyaXB0IHNyYz0iaHR0cHM6Ly9jZG5qcy5jbG91ZGZsYXJlLmNvbS9hamF4L2xpYnMvTGVhZmxldC5hd2Vzb21lLW1hcmtlcnMvMi4wLjIvbGVhZmxldC5hd2Vzb21lLW1hcmtlcnMuanMiPjwvc2NyaXB0PgogICAgPGxpbmsgcmVsPSJzdHlsZXNoZWV0IiBocmVmPSJodHRwczovL2Nkbi5qc2RlbGl2ci5uZXQvbnBtL2xlYWZsZXRAMS4zLjQvZGlzdC9sZWFmbGV0LmNzcyIvPgogICAgPGxpbmsgcmVsPSJzdHlsZXNoZWV0IiBocmVmPSJodHRwczovL21heGNkbi5ib290c3RyYXBjZG4uY29tL2Jvb3RzdHJhcC8zLjIuMC9jc3MvYm9vdHN0cmFwLm1pbi5jc3MiLz4KICAgIDxsaW5rIHJlbD0ic3R5bGVzaGVldCIgaHJlZj0iaHR0cHM6Ly9tYXhjZG4uYm9vdHN0cmFwY2RuLmNvbS9ib290c3RyYXAvMy4yLjAvY3NzL2Jvb3RzdHJhcC10aGVtZS5taW4uY3NzIi8+CiAgICA8bGluayByZWw9InN0eWxlc2hlZXQiIGhyZWY9Imh0dHBzOi8vbWF4Y2RuLmJvb3RzdHJhcGNkbi5jb20vZm9udC1hd2Vzb21lLzQuNi4zL2Nzcy9mb250LWF3ZXNvbWUubWluLmNzcyIvPgogICAgPGxpbmsgcmVsPSJzdHlsZXNoZWV0IiBocmVmPSJodHRwczovL2NkbmpzLmNsb3VkZmxhcmUuY29tL2FqYXgvbGlicy9MZWFmbGV0LmF3ZXNvbWUtbWFya2Vycy8yLjAuMi9sZWFmbGV0LmF3ZXNvbWUtbWFya2Vycy5jc3MiLz4KICAgIDxsaW5rIHJlbD0ic3R5bGVzaGVldCIgaHJlZj0iaHR0cHM6Ly9yYXdjZG4uZ2l0aGFjay5jb20vcHl0aG9uLXZpc3VhbGl6YXRpb24vZm9saXVtL21hc3Rlci9mb2xpdW0vdGVtcGxhdGVzL2xlYWZsZXQuYXdlc29tZS5yb3RhdGUuY3NzIi8+CiAgICA8c3R5bGU+aHRtbCwgYm9keSB7d2lkdGg6IDEwMCU7aGVpZ2h0OiAxMDAlO21hcmdpbjogMDtwYWRkaW5nOiAwO308L3N0eWxlPgogICAgPHN0eWxlPiNtYXAge3Bvc2l0aW9uOmFic29sdXRlO3RvcDowO2JvdHRvbTowO3JpZ2h0OjA7bGVmdDowO308L3N0eWxlPgogICAgCiAgICA8bWV0YSBuYW1lPSJ2aWV3cG9ydCIgY29udGVudD0id2lkdGg9ZGV2aWNlLXdpZHRoLAogICAgICAgIGluaXRpYWwtc2NhbGU9MS4wLCBtYXhpbXVtLXNjYWxlPTEuMCwgdXNlci1zY2FsYWJsZT1ubyIgLz4KICAgIDxzdHlsZT4jbWFwX2VkYThiZjk3NDBhZjQ0ODY4ZTFhNTcwZjM0ZjkyMGNmIHsKICAgICAgICBwb3NpdGlvbjogcmVsYXRpdmU7CiAgICAgICAgd2lkdGg6IDEwMC4wJTsKICAgICAgICBoZWlnaHQ6IDEwMC4wJTsKICAgICAgICBsZWZ0OiAwLjAlOwogICAgICAgIHRvcDogMC4wJTsKICAgICAgICB9CiAgICA8L3N0eWxlPgo8L2hlYWQ+Cjxib2R5PiAgICAKICAgIAogICAgPGRpdiBjbGFzcz0iZm9saXVtLW1hcCIgaWQ9Im1hcF9lZGE4YmY5NzQwYWY0NDg2OGUxYTU3MGYzNGY5MjBjZiIgPjwvZGl2Pgo8L2JvZHk+CjxzY3JpcHQ+ICAgIAogICAgCiAgICAKICAgICAgICB2YXIgYm91bmRzID0gbnVsbDsKICAgIAoKICAgIHZhciBtYXBfZWRhOGJmOTc0MGFmNDQ4NjhlMWE1NzBmMzRmOTIwY2YgPSBMLm1hcCgKICAgICAgICAnbWFwX2VkYThiZjk3NDBhZjQ0ODY4ZTFhNTcwZjM0ZjkyMGNmJywgewogICAgICAgIGNlbnRlcjogWzEwLjc2MjYyMiwgMTA2LjY2MDE3Ml0sCiAgICAgICAgem9vbTogMTIsCiAgICAgICAgbWF4Qm91bmRzOiBib3VuZHMsCiAgICAgICAgbGF5ZXJzOiBbXSwKICAgICAgICB3b3JsZENvcHlKdW1wOiBmYWxzZSwKICAgICAgICBjcnM6IEwuQ1JTLkVQU0czODU3LAogICAgICAgIHpvb21Db250cm9sOiB0cnVlLAogICAgICAgIH0pOwoKICAgIAogICAgCiAgICB2YXIgdGlsZV9sYXllcl9kYzAxYWFhZmQzOTI0MWFlOTBkMWI5NDkzZmFlOWM3YSA9IEwudGlsZUxheWVyKAogICAgICAgICdodHRwczovL3tzfS50aWxlLm9wZW5zdHJlZXRtYXAub3JnL3t6fS97eH0ve3l9LnBuZycsCiAgICAgICAgewogICAgICAgICJhdHRyaWJ1dGlvbiI6IG51bGwsCiAgICAgICAgImRldGVjdFJldGluYSI6IGZhbHNlLAogICAgICAgICJtYXhOYXRpdmVab29tIjogMTgsCiAgICAgICAgIm1heFpvb20iOiAxOCwKICAgICAgICAibWluWm9vbSI6IDAsCiAgICAgICAgIm5vV3JhcCI6IGZhbHNlLAogICAgICAgICJvcGFjaXR5IjogMSwKICAgICAgICAic3ViZG9tYWlucyI6ICJhYmMiLAogICAgICAgICJ0bXMiOiBmYWxzZQp9KS5hZGRUbyhtYXBfZWRhOGJmOTc0MGFmNDQ4NjhlMWE1NzBmMzRmOTIwY2YpOwo8L3NjcmlwdD4=\" style=\"position:absolute;width:100%;height:100%;left:0;top:0;border:none !important;\" allowfullscreen webkitallowfullscreen mozallowfullscreen></iframe></div></div>"
      ],
      "text/plain": [
       "<folium.folium.Map at 0x124884e0>"
      ]
     },
     "execution_count": 4,
     "metadata": {},
     "output_type": "execute_result"
    }
   ],
   "source": [
    "hcm_latitude = 10.762622 \n",
    "hcm_longitude = 106.660172\n",
    "hcm_map = folium.Map(location=[hcm_latitude, hcm_longitude], zoom_start=12)\n",
    "hcm_map"
   ]
  },
  {
   "cell_type": "code",
   "execution_count": 5,
   "metadata": {},
   "outputs": [
    {
     "data": {
      "text/html": [
       "<div style=\"width:100%;\"><div style=\"position:relative;width:100%;height:0;padding-bottom:60%;\"><iframe src=\"data:text/html;charset=utf-8;base64,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\" style=\"position:absolute;width:100%;height:100%;left:0;top:0;border:none !important;\" allowfullscreen webkitallowfullscreen mozallowfullscreen></iframe></div></div>"
      ],
      "text/plain": [
       "<folium.folium.Map at 0x12488f98>"
      ]
     },
     "execution_count": 5,
     "metadata": {},
     "output_type": "execute_result"
    }
   ],
   "source": [
    "hcm_map = folium.Map(location=[hcm_latitude, hcm_longitude], zoom_start=8, tiles='Stamen Toner')\n",
    "hcm_map"
   ]
  },
  {
   "cell_type": "code",
   "execution_count": 6,
   "metadata": {},
   "outputs": [
    {
     "data": {
      "text/html": [
       "<div style=\"width:100%;\"><div style=\"position:relative;width:100%;height:0;padding-bottom:60%;\"><iframe src=\"data:text/html;charset=utf-8;base64,PCFET0NUWVBFIGh0bWw+CjxoZWFkPiAgICAKICAgIDxtZXRhIGh0dHAtZXF1aXY9ImNvbnRlbnQtdHlwZSIgY29udGVudD0idGV4dC9odG1sOyBjaGFyc2V0PVVURi04IiAvPgogICAgPHNjcmlwdD5MX1BSRUZFUl9DQU5WQVM9ZmFsc2U7IExfTk9fVE9VQ0g9ZmFsc2U7IExfRElTQUJMRV8zRD1mYWxzZTs8L3NjcmlwdD4KICAgIDxzY3JpcHQgc3JjPSJodHRwczovL2Nkbi5qc2RlbGl2ci5uZXQvbnBtL2xlYWZsZXRAMS4zLjQvZGlzdC9sZWFmbGV0LmpzIj48L3NjcmlwdD4KICAgIDxzY3JpcHQgc3JjPSJodHRwczovL2FqYXguZ29vZ2xlYXBpcy5jb20vYWpheC9saWJzL2pxdWVyeS8xLjExLjEvanF1ZXJ5Lm1pbi5qcyI+PC9zY3JpcHQ+CiAgICA8c2NyaXB0IHNyYz0iaHR0cHM6Ly9tYXhjZG4uYm9vdHN0cmFwY2RuLmNvbS9ib290c3RyYXAvMy4yLjAvanMvYm9vdHN0cmFwLm1pbi5qcyI+PC9zY3JpcHQ+CiAgICA8c2NyaXB0IHNyYz0iaHR0cHM6Ly9jZG5qcy5jbG91ZGZsYXJlLmNvbS9hamF4L2xpYnMvTGVhZmxldC5hd2Vzb21lLW1hcmtlcnMvMi4wLjIvbGVhZmxldC5hd2Vzb21lLW1hcmtlcnMuanMiPjwvc2NyaXB0PgogICAgPGxpbmsgcmVsPSJzdHlsZXNoZWV0IiBocmVmPSJodHRwczovL2Nkbi5qc2RlbGl2ci5uZXQvbnBtL2xlYWZsZXRAMS4zLjQvZGlzdC9sZWFmbGV0LmNzcyIvPgogICAgPGxpbmsgcmVsPSJzdHlsZXNoZWV0IiBocmVmPSJodHRwczovL21heGNkbi5ib290c3RyYXBjZG4uY29tL2Jvb3RzdHJhcC8zLjIuMC9jc3MvYm9vdHN0cmFwLm1pbi5jc3MiLz4KICAgIDxsaW5rIHJlbD0ic3R5bGVzaGVldCIgaHJlZj0iaHR0cHM6Ly9tYXhjZG4uYm9vdHN0cmFwY2RuLmNvbS9ib290c3RyYXAvMy4yLjAvY3NzL2Jvb3RzdHJhcC10aGVtZS5taW4uY3NzIi8+CiAgICA8bGluayByZWw9InN0eWxlc2hlZXQiIGhyZWY9Imh0dHBzOi8vbWF4Y2RuLmJvb3RzdHJhcGNkbi5jb20vZm9udC1hd2Vzb21lLzQuNi4zL2Nzcy9mb250LWF3ZXNvbWUubWluLmNzcyIvPgogICAgPGxpbmsgcmVsPSJzdHlsZXNoZWV0IiBocmVmPSJodHRwczovL2NkbmpzLmNsb3VkZmxhcmUuY29tL2FqYXgvbGlicy9MZWFmbGV0LmF3ZXNvbWUtbWFya2Vycy8yLjAuMi9sZWFmbGV0LmF3ZXNvbWUtbWFya2Vycy5jc3MiLz4KICAgIDxsaW5rIHJlbD0ic3R5bGVzaGVldCIgaHJlZj0iaHR0cHM6Ly9yYXdjZG4uZ2l0aGFjay5jb20vcHl0aG9uLXZpc3VhbGl6YXRpb24vZm9saXVtL21hc3Rlci9mb2xpdW0vdGVtcGxhdGVzL2xlYWZsZXQuYXdlc29tZS5yb3RhdGUuY3NzIi8+CiAgICA8c3R5bGU+aHRtbCwgYm9keSB7d2lkdGg6IDEwMCU7aGVpZ2h0OiAxMDAlO21hcmdpbjogMDtwYWRkaW5nOiAwO308L3N0eWxlPgogICAgPHN0eWxlPiNtYXAge3Bvc2l0aW9uOmFic29sdXRlO3RvcDowO2JvdHRvbTowO3JpZ2h0OjA7bGVmdDowO308L3N0eWxlPgogICAgCiAgICA8bWV0YSBuYW1lPSJ2aWV3cG9ydCIgY29udGVudD0id2lkdGg9ZGV2aWNlLXdpZHRoLAogICAgICAgIGluaXRpYWwtc2NhbGU9MS4wLCBtYXhpbXVtLXNjYWxlPTEuMCwgdXNlci1zY2FsYWJsZT1ubyIgLz4KICAgIDxzdHlsZT4jbWFwXzBkMjM2NjBkNzRlMTQzMjBiYzBmMWM3OTY3ZDViYjFhIHsKICAgICAgICBwb3NpdGlvbjogcmVsYXRpdmU7CiAgICAgICAgd2lkdGg6IDEwMC4wJTsKICAgICAgICBoZWlnaHQ6IDEwMC4wJTsKICAgICAgICBsZWZ0OiAwLjAlOwogICAgICAgIHRvcDogMC4wJTsKICAgICAgICB9CiAgICA8L3N0eWxlPgo8L2hlYWQ+Cjxib2R5PiAgICAKICAgIAogICAgPGRpdiBjbGFzcz0iZm9saXVtLW1hcCIgaWQ9Im1hcF8wZDIzNjYwZDc0ZTE0MzIwYmMwZjFjNzk2N2Q1YmIxYSIgPjwvZGl2Pgo8L2JvZHk+CjxzY3JpcHQ+ICAgIAogICAgCiAgICAKICAgICAgICB2YXIgYm91bmRzID0gbnVsbDsKICAgIAoKICAgIHZhciBtYXBfMGQyMzY2MGQ3NGUxNDMyMGJjMGYxYzc5NjdkNWJiMWEgPSBMLm1hcCgKICAgICAgICAnbWFwXzBkMjM2NjBkNzRlMTQzMjBiYzBmMWM3OTY3ZDViYjFhJywgewogICAgICAgIGNlbnRlcjogWzEwLjc2MjYyMiwgMTA2LjY2MDE3Ml0sCiAgICAgICAgem9vbTogOCwKICAgICAgICBtYXhCb3VuZHM6IGJvdW5kcywKICAgICAgICBsYXllcnM6IFtdLAogICAgICAgIHdvcmxkQ29weUp1bXA6IGZhbHNlLAogICAgICAgIGNyczogTC5DUlMuRVBTRzM4NTcsCiAgICAgICAgem9vbUNvbnRyb2w6IHRydWUsCiAgICAgICAgfSk7CgogICAgCiAgICAKICAgIHZhciB0aWxlX2xheWVyXzUwMmVkZDFhOWRhNTQyY2M5ZmMyZWQ4NDg5MDkxMjFiID0gTC50aWxlTGF5ZXIoCiAgICAgICAgJ2h0dHBzOi8vc3RhbWVuLXRpbGVzLXtzfS5hLnNzbC5mYXN0bHkubmV0L3RlcnJhaW4ve3p9L3t4fS97eX0uanBnJywKICAgICAgICB7CiAgICAgICAgImF0dHJpYnV0aW9uIjogbnVsbCwKICAgICAgICAiZGV0ZWN0UmV0aW5hIjogZmFsc2UsCiAgICAgICAgIm1heE5hdGl2ZVpvb20iOiAxOCwKICAgICAgICAibWF4Wm9vbSI6IDE4LAogICAgICAgICJtaW5ab29tIjogMCwKICAgICAgICAibm9XcmFwIjogZmFsc2UsCiAgICAgICAgIm9wYWNpdHkiOiAxLAogICAgICAgICJzdWJkb21haW5zIjogImFiYyIsCiAgICAgICAgInRtcyI6IGZhbHNlCn0pLmFkZFRvKG1hcF8wZDIzNjYwZDc0ZTE0MzIwYmMwZjFjNzk2N2Q1YmIxYSk7Cjwvc2NyaXB0Pg==\" style=\"position:absolute;width:100%;height:100%;left:0;top:0;border:none !important;\" allowfullscreen webkitallowfullscreen mozallowfullscreen></iframe></div></div>"
      ],
      "text/plain": [
       "<folium.folium.Map at 0x12497898>"
      ]
     },
     "execution_count": 6,
     "metadata": {},
     "output_type": "execute_result"
    }
   ],
   "source": [
    "hcm_map = folium.Map(location=[hcm_latitude, hcm_longitude], zoom_start=8, tiles='Stamen Terrain')\n",
    "hcm_map"
   ]
  },
  {
   "cell_type": "code",
   "execution_count": 7,
   "metadata": {},
   "outputs": [
    {
     "data": {
      "text/html": [
       "<div style=\"width:100%;\"><div style=\"position:relative;width:100%;height:0;padding-bottom:60%;\"><iframe src=\"data:text/html;charset=utf-8;base64,PCFET0NUWVBFIGh0bWw+CjxoZWFkPiAgICAKICAgIDxtZXRhIGh0dHAtZXF1aXY9ImNvbnRlbnQtdHlwZSIgY29udGVudD0idGV4dC9odG1sOyBjaGFyc2V0PVVURi04IiAvPgogICAgPHNjcmlwdD5MX1BSRUZFUl9DQU5WQVM9ZmFsc2U7IExfTk9fVE9VQ0g9ZmFsc2U7IExfRElTQUJMRV8zRD1mYWxzZTs8L3NjcmlwdD4KICAgIDxzY3JpcHQgc3JjPSJodHRwczovL2Nkbi5qc2RlbGl2ci5uZXQvbnBtL2xlYWZsZXRAMS4zLjQvZGlzdC9sZWFmbGV0LmpzIj48L3NjcmlwdD4KICAgIDxzY3JpcHQgc3JjPSJodHRwczovL2FqYXguZ29vZ2xlYXBpcy5jb20vYWpheC9saWJzL2pxdWVyeS8xLjExLjEvanF1ZXJ5Lm1pbi5qcyI+PC9zY3JpcHQ+CiAgICA8c2NyaXB0IHNyYz0iaHR0cHM6Ly9tYXhjZG4uYm9vdHN0cmFwY2RuLmNvbS9ib290c3RyYXAvMy4yLjAvanMvYm9vdHN0cmFwLm1pbi5qcyI+PC9zY3JpcHQ+CiAgICA8c2NyaXB0IHNyYz0iaHR0cHM6Ly9jZG5qcy5jbG91ZGZsYXJlLmNvbS9hamF4L2xpYnMvTGVhZmxldC5hd2Vzb21lLW1hcmtlcnMvMi4wLjIvbGVhZmxldC5hd2Vzb21lLW1hcmtlcnMuanMiPjwvc2NyaXB0PgogICAgPGxpbmsgcmVsPSJzdHlsZXNoZWV0IiBocmVmPSJodHRwczovL2Nkbi5qc2RlbGl2ci5uZXQvbnBtL2xlYWZsZXRAMS4zLjQvZGlzdC9sZWFmbGV0LmNzcyIvPgogICAgPGxpbmsgcmVsPSJzdHlsZXNoZWV0IiBocmVmPSJodHRwczovL21heGNkbi5ib290c3RyYXBjZG4uY29tL2Jvb3RzdHJhcC8zLjIuMC9jc3MvYm9vdHN0cmFwLm1pbi5jc3MiLz4KICAgIDxsaW5rIHJlbD0ic3R5bGVzaGVldCIgaHJlZj0iaHR0cHM6Ly9tYXhjZG4uYm9vdHN0cmFwY2RuLmNvbS9ib290c3RyYXAvMy4yLjAvY3NzL2Jvb3RzdHJhcC10aGVtZS5taW4uY3NzIi8+CiAgICA8bGluayByZWw9InN0eWxlc2hlZXQiIGhyZWY9Imh0dHBzOi8vbWF4Y2RuLmJvb3RzdHJhcGNkbi5jb20vZm9udC1hd2Vzb21lLzQuNi4zL2Nzcy9mb250LWF3ZXNvbWUubWluLmNzcyIvPgogICAgPGxpbmsgcmVsPSJzdHlsZXNoZWV0IiBocmVmPSJodHRwczovL2NkbmpzLmNsb3VkZmxhcmUuY29tL2FqYXgvbGlicy9MZWFmbGV0LmF3ZXNvbWUtbWFya2Vycy8yLjAuMi9sZWFmbGV0LmF3ZXNvbWUtbWFya2Vycy5jc3MiLz4KICAgIDxsaW5rIHJlbD0ic3R5bGVzaGVldCIgaHJlZj0iaHR0cHM6Ly9yYXdjZG4uZ2l0aGFjay5jb20vcHl0aG9uLXZpc3VhbGl6YXRpb24vZm9saXVtL21hc3Rlci9mb2xpdW0vdGVtcGxhdGVzL2xlYWZsZXQuYXdlc29tZS5yb3RhdGUuY3NzIi8+CiAgICA8c3R5bGU+aHRtbCwgYm9keSB7d2lkdGg6IDEwMCU7aGVpZ2h0OiAxMDAlO21hcmdpbjogMDtwYWRkaW5nOiAwO308L3N0eWxlPgogICAgPHN0eWxlPiNtYXAge3Bvc2l0aW9uOmFic29sdXRlO3RvcDowO2JvdHRvbTowO3JpZ2h0OjA7bGVmdDowO308L3N0eWxlPgogICAgCiAgICA8bWV0YSBuYW1lPSJ2aWV3cG9ydCIgY29udGVudD0id2lkdGg9ZGV2aWNlLXdpZHRoLAogICAgICAgIGluaXRpYWwtc2NhbGU9MS4wLCBtYXhpbXVtLXNjYWxlPTEuMCwgdXNlci1zY2FsYWJsZT1ubyIgLz4KICAgIDxzdHlsZT4jbWFwXzUzNDVlYjBmMzEwZTRhYjlhNTc4MjQyNjRmNGIxM2VhIHsKICAgICAgICBwb3NpdGlvbjogcmVsYXRpdmU7CiAgICAgICAgd2lkdGg6IDEwMC4wJTsKICAgICAgICBoZWlnaHQ6IDEwMC4wJTsKICAgICAgICBsZWZ0OiAwLjAlOwogICAgICAgIHRvcDogMC4wJTsKICAgICAgICB9CiAgICA8L3N0eWxlPgo8L2hlYWQ+Cjxib2R5PiAgICAKICAgIAogICAgPGRpdiBjbGFzcz0iZm9saXVtLW1hcCIgaWQ9Im1hcF81MzQ1ZWIwZjMxMGU0YWI5YTU3ODI0MjY0ZjRiMTNlYSIgPjwvZGl2Pgo8L2JvZHk+CjxzY3JpcHQ+ICAgIAogICAgCiAgICAKICAgICAgICB2YXIgYm91bmRzID0gbnVsbDsKICAgIAoKICAgIHZhciBtYXBfNTM0NWViMGYzMTBlNGFiOWE1NzgyNDI2NGY0YjEzZWEgPSBMLm1hcCgKICAgICAgICAnbWFwXzUzNDVlYjBmMzEwZTRhYjlhNTc4MjQyNjRmNGIxM2VhJywgewogICAgICAgIGNlbnRlcjogWzEwLjc2MjYyMiwgMTA2LjY2MDE3Ml0sCiAgICAgICAgem9vbTogOCwKICAgICAgICBtYXhCb3VuZHM6IGJvdW5kcywKICAgICAgICBsYXllcnM6IFtdLAogICAgICAgIHdvcmxkQ29weUp1bXA6IGZhbHNlLAogICAgICAgIGNyczogTC5DUlMuRVBTRzM4NTcsCiAgICAgICAgem9vbUNvbnRyb2w6IHRydWUsCiAgICAgICAgfSk7CgogICAgCiAgICAKICAgIHZhciB0aWxlX2xheWVyXzYzODM1MGE3Mjc1NjQ2ZDU5ZjVkNzMxMDVlNjQwOTQ1ID0gTC50aWxlTGF5ZXIoCiAgICAgICAgJ2h0dHBzOi8ve3N9LnRpbGVzLm1hcGJveC5jb20vdjMvbWFwYm94LndvcmxkLWJyaWdodC97en0ve3h9L3t5fS5wbmcnLAogICAgICAgIHsKICAgICAgICAiYXR0cmlidXRpb24iOiBudWxsLAogICAgICAgICJkZXRlY3RSZXRpbmEiOiBmYWxzZSwKICAgICAgICAibWF4TmF0aXZlWm9vbSI6IDE4LAogICAgICAgICJtYXhab29tIjogMTgsCiAgICAgICAgIm1pblpvb20iOiAwLAogICAgICAgICJub1dyYXAiOiBmYWxzZSwKICAgICAgICAib3BhY2l0eSI6IDEsCiAgICAgICAgInN1YmRvbWFpbnMiOiAiYWJjIiwKICAgICAgICAidG1zIjogZmFsc2UKfSkuYWRkVG8obWFwXzUzNDVlYjBmMzEwZTRhYjlhNTc4MjQyNjRmNGIxM2VhKTsKPC9zY3JpcHQ+\" style=\"position:absolute;width:100%;height:100%;left:0;top:0;border:none !important;\" allowfullscreen webkitallowfullscreen mozallowfullscreen></iframe></div></div>"
      ],
      "text/plain": [
       "<folium.folium.Map at 0x124c70f0>"
      ]
     },
     "execution_count": 7,
     "metadata": {},
     "output_type": "execute_result"
    }
   ],
   "source": [
    "hcm_map = folium.Map(location=[hcm_latitude, hcm_longitude], zoom_start=8, tiles='Mapbox Bright')\n",
    "hcm_map"
   ]
  },
  {
   "cell_type": "code",
   "execution_count": 8,
   "metadata": {},
   "outputs": [
    {
     "data": {
      "text/html": [
       "<div>\n",
       "<style scoped>\n",
       "    .dataframe tbody tr th:only-of-type {\n",
       "        vertical-align: middle;\n",
       "    }\n",
       "\n",
       "    .dataframe tbody tr th {\n",
       "        vertical-align: top;\n",
       "    }\n",
       "\n",
       "    .dataframe thead th {\n",
       "        text-align: right;\n",
       "    }\n",
       "</style>\n",
       "<table border=\"1\" class=\"dataframe\">\n",
       "  <thead>\n",
       "    <tr style=\"text-align: right;\">\n",
       "      <th></th>\n",
       "      <th>STT</th>\n",
       "      <th>ID</th>\n",
       "      <th>Name</th>\n",
       "      <th>Bourough</th>\n",
       "      <th>Postal cost</th>\n",
       "      <th>Latitude</th>\n",
       "      <th>Longitude</th>\n",
       "      <th>Population</th>\n",
       "      <th>Population_all</th>\n",
       "      <th>Avg_land_price</th>\n",
       "    </tr>\n",
       "  </thead>\n",
       "  <tbody>\n",
       "    <tr>\n",
       "      <th>0</th>\n",
       "      <td>1</td>\n",
       "      <td>760</td>\n",
       "      <td>Quận 1</td>\n",
       "      <td>Vietnam, Quan 1</td>\n",
       "      <td>NaN</td>\n",
       "      <td>10.775659</td>\n",
       "      <td>106.700424</td>\n",
       "      <td>193.632</td>\n",
       "      <td>193632</td>\n",
       "      <td>59852096</td>\n",
       "    </tr>\n",
       "    <tr>\n",
       "      <th>1</th>\n",
       "      <td>2</td>\n",
       "      <td>761</td>\n",
       "      <td>Quận 12</td>\n",
       "      <td>Vietnam, Quan 12</td>\n",
       "      <td>NaN</td>\n",
       "      <td>10.867153</td>\n",
       "      <td>106.641332</td>\n",
       "      <td>510.326</td>\n",
       "      <td>510326</td>\n",
       "      <td>3505942</td>\n",
       "    </tr>\n",
       "    <tr>\n",
       "      <th>2</th>\n",
       "      <td>3</td>\n",
       "      <td>762</td>\n",
       "      <td>Quận Thủ Đức</td>\n",
       "      <td>Vietnam, Thu Duc</td>\n",
       "      <td>NaN</td>\n",
       "      <td>10.849409</td>\n",
       "      <td>106.753705</td>\n",
       "      <td>528.413</td>\n",
       "      <td>528413</td>\n",
       "      <td>5249286</td>\n",
       "    </tr>\n",
       "    <tr>\n",
       "      <th>3</th>\n",
       "      <td>4</td>\n",
       "      <td>763</td>\n",
       "      <td>Quận 9</td>\n",
       "      <td>Vietnam, Quan 9</td>\n",
       "      <td>NaN</td>\n",
       "      <td>10.842840</td>\n",
       "      <td>106.828685</td>\n",
       "      <td>290.620</td>\n",
       "      <td>290620</td>\n",
       "      <td>3337584</td>\n",
       "    </tr>\n",
       "    <tr>\n",
       "      <th>4</th>\n",
       "      <td>5</td>\n",
       "      <td>764</td>\n",
       "      <td>Quận Gò Vấp</td>\n",
       "      <td>Vietnam, Go Vap</td>\n",
       "      <td>NaN</td>\n",
       "      <td>10.838678</td>\n",
       "      <td>106.665290</td>\n",
       "      <td>634.146</td>\n",
       "      <td>634146</td>\n",
       "      <td>9873267</td>\n",
       "    </tr>\n",
       "  </tbody>\n",
       "</table>\n",
       "</div>"
      ],
      "text/plain": [
       "   STT   ID          Name          Bourough  Postal cost   Latitude  \\\n",
       "0    1  760        Quận 1   Vietnam, Quan 1          NaN  10.775659   \n",
       "1    2  761       Quận 12  Vietnam, Quan 12          NaN  10.867153   \n",
       "2    3  762  Quận Thủ Đức  Vietnam, Thu Duc          NaN  10.849409   \n",
       "3    4  763        Quận 9   Vietnam, Quan 9          NaN  10.842840   \n",
       "4    5  764   Quận Gò Vấp   Vietnam, Go Vap          NaN  10.838678   \n",
       "\n",
       "    Longitude  Population  Population_all  Avg_land_price  \n",
       "0  106.700424     193.632          193632        59852096  \n",
       "1  106.641332     510.326          510326         3505942  \n",
       "2  106.753705     528.413          528413         5249286  \n",
       "3  106.828685     290.620          290620         3337584  \n",
       "4  106.665290     634.146          634146         9873267  "
      ]
     },
     "execution_count": 8,
     "metadata": {},
     "output_type": "execute_result"
    }
   ],
   "source": [
    "df_hcm = pd.read_excel(\"data/HCMC_location.xlsx\", sheet_name=\"Location\")\n",
    "df_hcm.head()"
   ]
  },
  {
   "cell_type": "code",
   "execution_count": 9,
   "metadata": {},
   "outputs": [],
   "source": [
    "hcm_map = folium.Map(location=[hcm_latitude, hcm_longitude], zoom_start=12)"
   ]
  },
  {
   "cell_type": "code",
   "execution_count": 10,
   "metadata": {},
   "outputs": [
    {
     "data": {
      "text/html": [
       "<div style=\"width:100%;\"><div style=\"position:relative;width:100%;height:0;padding-bottom:60%;\"><iframe src=\"data:text/html;charset=utf-8;base64,PCFET0NUWVBFIGh0bWw+CjxoZWFkPiAgICAKICAgIDxtZXRhIGh0dHAtZXF1aXY9ImNvbnRlbnQtdHlwZSIgY29udGVudD0idGV4dC9odG1sOyBjaGFyc2V0PVVURi04IiAvPgogICAgPHNjcmlwdD5MX1BSRUZFUl9DQU5WQVM9ZmFsc2U7IExfTk9fVE9VQ0g9ZmFsc2U7IExfRElTQUJMRV8zRD1mYWxzZTs8L3NjcmlwdD4KICAgIDxzY3JpcHQgc3JjPSJodHRwczovL2Nkbi5qc2RlbGl2ci5uZXQvbnBtL2xlYWZsZXRAMS4zLjQvZGlzdC9sZWFmbGV0LmpzIj48L3NjcmlwdD4KICAgIDxzY3JpcHQgc3JjPSJodHRwczovL2FqYXguZ29vZ2xlYXBpcy5jb20vYWpheC9saWJzL2pxdWVyeS8xLjExLjEvanF1ZXJ5Lm1pbi5qcyI+PC9zY3JpcHQ+CiAgICA8c2NyaXB0IHNyYz0iaHR0cHM6Ly9tYXhjZG4uYm9vdHN0cmFwY2RuLmNvbS9ib290c3RyYXAvMy4yLjAvanMvYm9vdHN0cmFwLm1pbi5qcyI+PC9zY3JpcHQ+CiAgICA8c2NyaXB0IHNyYz0iaHR0cHM6Ly9jZG5qcy5jbG91ZGZsYXJlLmNvbS9hamF4L2xpYnMvTGVhZmxldC5hd2Vzb21lLW1hcmtlcnMvMi4wLjIvbGVhZmxldC5hd2Vzb21lLW1hcmtlcnMuanMiPjwvc2NyaXB0PgogICAgPGxpbmsgcmVsPSJzdHlsZXNoZWV0IiBocmVmPSJodHRwczovL2Nkbi5qc2RlbGl2ci5uZXQvbnBtL2xlYWZsZXRAMS4zLjQvZGlzdC9sZWFmbGV0LmNzcyIvPgogICAgPGxpbmsgcmVsPSJzdHlsZXNoZWV0IiBocmVmPSJodHRwczovL21heGNkbi5ib290c3RyYXBjZG4uY29tL2Jvb3RzdHJhcC8zLjIuMC9jc3MvYm9vdHN0cmFwLm1pbi5jc3MiLz4KICAgIDxsaW5rIHJlbD0ic3R5bGVzaGVldCIgaHJlZj0iaHR0cHM6Ly9tYXhjZG4uYm9vdHN0cmFwY2RuLmNvbS9ib290c3RyYXAvMy4yLjAvY3NzL2Jvb3RzdHJhcC10aGVtZS5taW4uY3NzIi8+CiAgICA8bGluayByZWw9InN0eWxlc2hlZXQiIGhyZWY9Imh0dHBzOi8vbWF4Y2RuLmJvb3RzdHJhcGNkbi5jb20vZm9udC1hd2Vzb21lLzQuNi4zL2Nzcy9mb250LWF3ZXNvbWUubWluLmNzcyIvPgogICAgPGxpbmsgcmVsPSJzdHlsZXNoZWV0IiBocmVmPSJodHRwczovL2NkbmpzLmNsb3VkZmxhcmUuY29tL2FqYXgvbGlicy9MZWFmbGV0LmF3ZXNvbWUtbWFya2Vycy8yLjAuMi9sZWFmbGV0LmF3ZXNvbWUtbWFya2Vycy5jc3MiLz4KICAgIDxsaW5rIHJlbD0ic3R5bGVzaGVldCIgaHJlZj0iaHR0cHM6Ly9yYXdjZG4uZ2l0aGFjay5jb20vcHl0aG9uLXZpc3VhbGl6YXRpb24vZm9saXVtL21hc3Rlci9mb2xpdW0vdGVtcGxhdGVzL2xlYWZsZXQuYXdlc29tZS5yb3RhdGUuY3NzIi8+CiAgICA8c3R5bGU+aHRtbCwgYm9keSB7d2lkdGg6IDEwMCU7aGVpZ2h0OiAxMDAlO21hcmdpbjogMDtwYWRkaW5nOiAwO308L3N0eWxlPgogICAgPHN0eWxlPiNtYXAge3Bvc2l0aW9uOmFic29sdXRlO3RvcDowO2JvdHRvbTowO3JpZ2h0OjA7bGVmdDowO308L3N0eWxlPgogICAgCiAgICA8bWV0YSBuYW1lPSJ2aWV3cG9ydCIgY29udGVudD0id2lkdGg9ZGV2aWNlLXdpZHRoLAogICAgICAgIGluaXRpYWwtc2NhbGU9MS4wLCBtYXhpbXVtLXNjYWxlPTEuMCwgdXNlci1zY2FsYWJsZT1ubyIgLz4KICAgIDxzdHlsZT4jbWFwX2QzMTFhYmVlNWI2ODRkNGU5MDkyYTJiYmY1Mzc2MTFlIHsKICAgICAgICBwb3NpdGlvbjogcmVsYXRpdmU7CiAgICAgICAgd2lkdGg6IDEwMC4wJTsKICAgICAgICBoZWlnaHQ6IDEwMC4wJTsKICAgICAgICBsZWZ0OiAwLjAlOwogICAgICAgIHRvcDogMC4wJTsKICAgICAgICB9CiAgICA8L3N0eWxlPgo8L2hlYWQ+Cjxib2R5PiAgICAKICAgIAogICAgPGRpdiBjbGFzcz0iZm9saXVtLW1hcCIgaWQ9Im1hcF9kMzExYWJlZTViNjg0ZDRlOTA5MmEyYmJmNTM3NjExZSIgPjwvZGl2Pgo8L2JvZHk+CjxzY3JpcHQ+ICAgIAogICAgCiAgICAKICAgICAgICB2YXIgYm91bmRzID0gbnVsbDsKICAgIAoKICAgIHZhciBtYXBfZDMxMWFiZWU1YjY4NGQ0ZTkwOTJhMmJiZjUzNzYxMWUgPSBMLm1hcCgKICAgICAgICAnbWFwX2QzMTFhYmVlNWI2ODRkNGU5MDkyYTJiYmY1Mzc2MTFlJywgewogICAgICAgIGNlbnRlcjogWzEwLjc2MjYyMiwgMTA2LjY2MDE3Ml0sCiAgICAgICAgem9vbTogMTIsCiAgICAgICAgbWF4Qm91bmRzOiBib3VuZHMsCiAgICAgICAgbGF5ZXJzOiBbXSwKICAgICAgICB3b3JsZENvcHlKdW1wOiBmYWxzZSwKICAgICAgICBjcnM6IEwuQ1JTLkVQU0czODU3LAogICAgICAgIHpvb21Db250cm9sOiB0cnVlLAogICAgICAgIH0pOwoKICAgIAogICAgCiAgICB2YXIgdGlsZV9sYXllcl9hMzYxNTQwZmY1NGI0MTQyOTg3NjlhNTQ5ZjBkNzc2OSA9IEwudGlsZUxheWVyKAogICAgICAgICdodHRwczovL3tzfS50aWxlLm9wZW5zdHJlZXRtYXAub3JnL3t6fS97eH0ve3l9LnBuZycsCiAgICAgICAgewogICAgICAgICJhdHRyaWJ1dGlvbiI6IG51bGwsCiAgICAgICAgImRldGVjdFJldGluYSI6IGZhbHNlLAogICAgICAgICJtYXhOYXRpdmVab29tIjogMTgsCiAgICAgICAgIm1heFpvb20iOiAxOCwKICAgICAgICAibWluWm9vbSI6IDAsCiAgICAgICAgIm5vV3JhcCI6IGZhbHNlLAogICAgICAgICJvcGFjaXR5IjogMSwKICAgICAgICAic3ViZG9tYWlucyI6ICJhYmMiLAogICAgICAgICJ0bXMiOiBmYWxzZQp9KS5hZGRUbyhtYXBfZDMxMWFiZWU1YjY4NGQ0ZTkwOTJhMmJiZjUzNzYxMWUpOwogICAgCiAgICAgICAgICAgIHZhciBmZWF0dXJlX2dyb3VwX2U5OWFiNzMxMmJkMTRjY2ZiZjI3NDMwMmNmYjUxYjU5ID0gTC5mZWF0dXJlR3JvdXAoCiAgICAgICAgICAgICAgICApLmFkZFRvKG1hcF9kMzExYWJlZTViNjg0ZDRlOTA5MmEyYmJmNTM3NjExZSk7CiAgICAgICAgCiAgICAKICAgICAgICAgICAgdmFyIGNpcmNsZV9tYXJrZXJfNTAyOTFkNmJlNGY2NGE0NjkyMWY0M2I0ZDAxYTlhY2EgPSBMLmNpcmNsZU1hcmtlcigKICAgICAgICAgICAgICAgIFsxMC43NzU2NTg3LCAxMDYuNzAwNDIzOF0sCiAgICAgICAgICAgICAgICB7CiAgImJ1YmJsaW5nTW91c2VFdmVudHMiOiB0cnVlLAogICJjb2xvciI6ICJ5ZWxsb3ciLAogICJkYXNoQXJyYXkiOiBudWxsLAogICJkYXNoT2Zmc2V0IjogbnVsbCwKICAiZmlsbCI6IHRydWUsCiAgImZpbGxDb2xvciI6ICJyZWQiLAogICJmaWxsT3BhY2l0eSI6IDAuNiwKICAiZmlsbFJ1bGUiOiAiZXZlbm9kZCIsCiAgImxpbmVDYXAiOiAicm91bmQiLAogICJsaW5lSm9pbiI6ICJyb3VuZCIsCiAgIm9wYWNpdHkiOiAxLjAsCiAgInJhZGl1cyI6IDUsCiAgInN0cm9rZSI6IHRydWUsCiAgIndlaWdodCI6IDMKfQogICAgICAgICAgICAgICAgKQogICAgICAgICAgICAgICAgLmFkZFRvKGZlYXR1cmVfZ3JvdXBfZTk5YWI3MzEyYmQxNGNjZmJmMjc0MzAyY2ZiNTFiNTkpOwogICAgICAgICAgICAKICAgIAogICAgICAgICAgICB2YXIgY2lyY2xlX21hcmtlcl82MTY0MmUxN2M0NzI0MmVmYTc4NTg4MjdmMGVmNzJlZSA9IEwuY2lyY2xlTWFya2VyKAogICAgICAgICAgICAgICAgWzEwLjg2NzE1MzEsIDEwNi42NDEzMzIyXSwKICAgICAgICAgICAgICAgIHsKICAiYnViYmxpbmdNb3VzZUV2ZW50cyI6IHRydWUsCiAgImNvbG9yIjogInllbGxvdyIsCiAgImRhc2hBcnJheSI6IG51bGwsCiAgImRhc2hPZmZzZXQiOiBudWxsLAogICJmaWxsIjogdHJ1ZSwKICAiZmlsbENvbG9yIjogInJlZCIsCiAgImZpbGxPcGFjaXR5IjogMC42LAogICJmaWxsUnVsZSI6ICJldmVub2RkIiwKICAibGluZUNhcCI6ICJyb3VuZCIsCiAgImxpbmVKb2luIjogInJvdW5kIiwKICAib3BhY2l0eSI6IDEuMCwKICAicmFkaXVzIjogNSwKICAic3Ryb2tlIjogdHJ1ZSwKICAid2VpZ2h0IjogMwp9CiAgICAgICAgICAgICAgICApCiAgICAgICAgICAgICAgICAuYWRkVG8oZmVhdHVyZV9ncm91cF9lOTlhYjczMTJiZDE0Y2NmYmYyNzQzMDJjZmI1MWI1OSk7CiAgICAgICAgICAgIAogICAgCiAgICAgICAgICAgIHZhciBjaXJjbGVfbWFya2VyXzVkY2IxMDYzOWNiZTQ3OWRiZjdmNTk4YTU2NDQ0NGY2ID0gTC5jaXJjbGVNYXJrZXIoCiAgICAgICAgICAgICAgICBbMTAuODQ5NDA5NCwgMTA2Ljc1MzcwNTVdLAogICAgICAgICAgICAgICAgewogICJidWJibGluZ01vdXNlRXZlbnRzIjogdHJ1ZSwKICAiY29sb3IiOiAieWVsbG93IiwKICAiZGFzaEFycmF5IjogbnVsbCwKICAiZGFzaE9mZnNldCI6IG51bGwsCiAgImZpbGwiOiB0cnVlLAogICJmaWxsQ29sb3IiOiAicmVkIiwKICAiZmlsbE9wYWNpdHkiOiAwLjYsCiAgImZpbGxSdWxlIjogImV2ZW5vZGQiLAogICJsaW5lQ2FwIjogInJvdW5kIiwKICAibGluZUpvaW4iOiAicm91bmQiLAogICJvcGFjaXR5IjogMS4wLAogICJyYWRpdXMiOiA1LAogICJzdHJva2UiOiB0cnVlLAogICJ3ZWlnaHQiOiAzCn0KICAgICAgICAgICAgICAgICkKICAgICAgICAgICAgICAgIC5hZGRUbyhmZWF0dXJlX2dyb3VwX2U5OWFiNzMxMmJkMTRjY2ZiZjI3NDMwMmNmYjUxYjU5KTsKICAgICAgICAgICAgCiAgICAKICAgICAgICAgICAgdmFyIGNpcmNsZV9tYXJrZXJfODkyMmEyYTU3YjI2NGRhMzg0ZGUzNjJjNzE0YjE0NjAgPSBMLmNpcmNsZU1hcmtlcigKICAgICAgICAgICAgICAgIFsxMC44NDI4NDAyLCAxMDYuODI4Njg1MV0sCiAgICAgICAgICAgICAgICB7CiAgImJ1YmJsaW5nTW91c2VFdmVudHMiOiB0cnVlLAogICJjb2xvciI6ICJ5ZWxsb3ciLAogICJkYXNoQXJyYXkiOiBudWxsLAogICJkYXNoT2Zmc2V0IjogbnVsbCwKICAiZmlsbCI6IHRydWUsCiAgImZpbGxDb2xvciI6ICJyZWQiLAogICJmaWxsT3BhY2l0eSI6IDAuNiwKICAiZmlsbFJ1bGUiOiAiZXZlbm9kZCIsCiAgImxpbmVDYXAiOiAicm91bmQiLAogICJsaW5lSm9pbiI6ICJyb3VuZCIsCiAgIm9wYWNpdHkiOiAxLjAsCiAgInJhZGl1cyI6IDUsCiAgInN0cm9rZSI6IHRydWUsCiAgIndlaWdodCI6IDMKfQogICAgICAgICAgICAgICAgKQogICAgICAgICAgICAgICAgLmFkZFRvKGZlYXR1cmVfZ3JvdXBfZTk5YWI3MzEyYmQxNGNjZmJmMjc0MzAyY2ZiNTFiNTkpOwogICAgICAgICAgICAKICAgIAogICAgICAgICAgICB2YXIgY2lyY2xlX21hcmtlcl8yMjJhYWFjNTA1OTg0NmMwYWFiNGJhNzY4YjNhNTY4MiA9IEwuY2lyY2xlTWFya2VyKAogICAgICAgICAgICAgICAgWzEwLjgzODY3NzksIDEwNi42NjUyOTA0XSwKICAgICAgICAgICAgICAgIHsKICAiYnViYmxpbmdNb3VzZUV2ZW50cyI6IHRydWUsCiAgImNvbG9yIjogInllbGxvdyIsCiAgImRhc2hBcnJheSI6IG51bGwsCiAgImRhc2hPZmZzZXQiOiBudWxsLAogICJmaWxsIjogdHJ1ZSwKICAiZmlsbENvbG9yIjogInJlZCIsCiAgImZpbGxPcGFjaXR5IjogMC42LAogICJmaWxsUnVsZSI6ICJldmVub2RkIiwKICAibGluZUNhcCI6ICJyb3VuZCIsCiAgImxpbmVKb2luIjogInJvdW5kIiwKICAib3BhY2l0eSI6IDEuMCwKICAicmFkaXVzIjogNSwKICAic3Ryb2tlIjogdHJ1ZSwKICAid2VpZ2h0IjogMwp9CiAgICAgICAgICAgICAgICApCiAgICAgICAgICAgICAgICAuYWRkVG8oZmVhdHVyZV9ncm91cF9lOTlhYjczMTJiZDE0Y2NmYmYyNzQzMDJjZmI1MWI1OSk7CiAgICAgICAgICAgIAogICAgCiAgICAgICAgICAgIHZhciBjaXJjbGVfbWFya2VyXzI1NTk0ZjE3M2YzNjQxZjZhYTdjYzQ5NTU0NDkxODZkID0gTC5jaXJjbGVNYXJrZXIoCiAgICAgICAgICAgICAgICBbMTAuODEwNTgzMSwgMTA2LjcwOTE0MjJdLAogICAgICAgICAgICAgICAgewogICJidWJibGluZ01vdXNlRXZlbnRzIjogdHJ1ZSwKICAiY29sb3IiOiAieWVsbG93IiwKICAiZGFzaEFycmF5IjogbnVsbCwKICAiZGFzaE9mZnNldCI6IG51bGwsCiAgImZpbGwiOiB0cnVlLAogICJmaWxsQ29sb3IiOiAicmVkIiwKICAiZmlsbE9wYWNpdHkiOiAwLjYsCiAgImZpbGxSdWxlIjogImV2ZW5vZGQiLAogICJsaW5lQ2FwIjogInJvdW5kIiwKICAibGluZUpvaW4iOiAicm91bmQiLAogICJvcGFjaXR5IjogMS4wLAogICJyYWRpdXMiOiA1LAogICJzdHJva2UiOiB0cnVlLAogICJ3ZWlnaHQiOiAzCn0KICAgICAgICAgICAgICAgICkKICAgICAgICAgICAgICAgIC5hZGRUbyhmZWF0dXJlX2dyb3VwX2U5OWFiNzMxMmJkMTRjY2ZiZjI3NDMwMmNmYjUxYjU5KTsKICAgICAgICAgICAgCiAgICAKICAgICAgICAgICAgdmFyIGNpcmNsZV9tYXJrZXJfNGYyZTc5ODViMWUzNDcyZTkwMTZiNGU3Y2EzNjc1N2QgPSBMLmNpcmNsZU1hcmtlcigKICAgICAgICAgICAgICAgIFsxMC44MDE0NjU5LCAxMDYuNjUyNTk3NF0sCiAgICAgICAgICAgICAgICB7CiAgImJ1YmJsaW5nTW91c2VFdmVudHMiOiB0cnVlLAogICJjb2xvciI6ICJ5ZWxsb3ciLAogICJkYXNoQXJyYXkiOiBudWxsLAogICJkYXNoT2Zmc2V0IjogbnVsbCwKICAiZmlsbCI6IHRydWUsCiAgImZpbGxDb2xvciI6ICJyZWQiLAogICJmaWxsT3BhY2l0eSI6IDAuNiwKICAiZmlsbFJ1bGUiOiAiZXZlbm9kZCIsCiAgImxpbmVDYXAiOiAicm91bmQiLAogICJsaW5lSm9pbiI6ICJyb3VuZCIsCiAgIm9wYWNpdHkiOiAxLjAsCiAgInJhZGl1cyI6IDUsCiAgInN0cm9rZSI6IHRydWUsCiAgIndlaWdodCI6IDMKfQogICAgICAgICAgICAgICAgKQogICAgICAgICAgICAgICAgLmFkZFRvKGZlYXR1cmVfZ3JvdXBfZTk5YWI3MzEyYmQxNGNjZmJmMjc0MzAyY2ZiNTFiNTkpOwogICAgICAgICAgICAKICAgIAogICAgICAgICAgICB2YXIgY2lyY2xlX21hcmtlcl81NWMyNWQ1ZDVlMTY0ODk4YjMwNzk5OWYyYzJiYzRjYSA9IEwuY2lyY2xlTWFya2VyKAogICAgICAgICAgICAgICAgWzExLjQyNzUzMDgsIDEwNy4zNjEyM10sCiAgICAgICAgICAgICAgICB7CiAgImJ1YmJsaW5nTW91c2VFdmVudHMiOiB0cnVlLAogICJjb2xvciI6ICJ5ZWxsb3ciLAogICJkYXNoQXJyYXkiOiBudWxsLAogICJkYXNoT2Zmc2V0IjogbnVsbCwKICAiZmlsbCI6IHRydWUsCiAgImZpbGxDb2xvciI6ICJyZWQiLAogICJmaWxsT3BhY2l0eSI6IDAuNiwKICAiZmlsbFJ1bGUiOiAiZXZlbm9kZCIsCiAgImxpbmVDYXAiOiAicm91bmQiLAogICJsaW5lSm9pbiI6ICJyb3VuZCIsCiAgIm9wYWNpdHkiOiAxLjAsCiAgInJhZGl1cyI6IDUsCiAgInN0cm9rZSI6IHRydWUsCiAgIndlaWdodCI6IDMKfQogICAgICAgICAgICAgICAgKQogICAgICAgICAgICAgICAgLmFkZFRvKGZlYXR1cmVfZ3JvdXBfZTk5YWI3MzEyYmQxNGNjZmJmMjc0MzAyY2ZiNTFiNTkpOwogICAgICAgICAgICAKICAgIAogICAgICAgICAgICB2YXIgY2lyY2xlX21hcmtlcl8zMGVlZDY4YWQxZTY0NTM0YmNkZjk2NDVjYmIyNjE2OSA9IEwuY2lyY2xlTWFya2VyKAogICAgICAgICAgICAgICAgWzEwLjc5OTE5NDQsIDEwNi42ODAyNjM5XSwKICAgICAgICAgICAgICAgIHsKICAiYnViYmxpbmdNb3VzZUV2ZW50cyI6IHRydWUsCiAgImNvbG9yIjogInllbGxvdyIsCiAgImRhc2hBcnJheSI6IG51bGwsCiAgImRhc2hPZmZzZXQiOiBudWxsLAogICJmaWxsIjogdHJ1ZSwKICAiZmlsbENvbG9yIjogInJlZCIsCiAgImZpbGxPcGFjaXR5IjogMC42LAogICJmaWxsUnVsZSI6ICJldmVub2RkIiwKICAibGluZUNhcCI6ICJyb3VuZCIsCiAgImxpbmVKb2luIjogInJvdW5kIiwKICAib3BhY2l0eSI6IDEuMCwKICAicmFkaXVzIjogNSwKICAic3Ryb2tlIjogdHJ1ZSwKICAid2VpZ2h0IjogMwp9CiAgICAgICAgICAgICAgICApCiAgICAgICAgICAgICAgICAuYWRkVG8oZmVhdHVyZV9ncm91cF9lOTlhYjczMTJiZDE0Y2NmYmYyNzQzMDJjZmI1MWI1OSk7CiAgICAgICAgICAgIAogICAgCiAgICAgICAgICAgIHZhciBjaXJjbGVfbWFya2VyXzYzMTc1ZTUzYmM2NjQ2YjVhMjYxYmMzODcxZDMzZjNjID0gTC5jaXJjbGVNYXJrZXIoCiAgICAgICAgICAgICAgICBbMTAuNzg3MjcyOSwgMTA2Ljc0OTgxMDVdLAogICAgICAgICAgICAgICAgewogICJidWJibGluZ01vdXNlRXZlbnRzIjogdHJ1ZSwKICAiY29sb3IiOiAieWVsbG93IiwKICAiZGFzaEFycmF5IjogbnVsbCwKICAiZGFzaE9mZnNldCI6IG51bGwsCiAgImZpbGwiOiB0cnVlLAogICJmaWxsQ29sb3IiOiAicmVkIiwKICAiZmlsbE9wYWNpdHkiOiAwLjYsCiAgImZpbGxSdWxlIjogImV2ZW5vZGQiLAogICJsaW5lQ2FwIjogInJvdW5kIiwKICAibGluZUpvaW4iOiAicm91bmQiLAogICJvcGFjaXR5IjogMS4wLAogICJyYWRpdXMiOiA1LAogICJzdHJva2UiOiB0cnVlLAogICJ3ZWlnaHQiOiAzCn0KICAgICAgICAgICAgICAgICkKICAgICAgICAgICAgICAgIC5hZGRUbyhmZWF0dXJlX2dyb3VwX2U5OWFiNzMxMmJkMTRjY2ZiZjI3NDMwMmNmYjUxYjU5KTsKICAgICAgICAgICAgCiAgICAKICAgICAgICAgICAgdmFyIGNpcmNsZV9tYXJrZXJfMjQzMWNjNTFmOWRmNDM0MGE0ZjQ3NzcyNDg5ZTY5YmIgPSBMLmNpcmNsZU1hcmtlcigKICAgICAgICAgICAgICAgIFsxMC43ODQzNjk1LCAxMDYuNjg0NDA4OV0sCiAgICAgICAgICAgICAgICB7CiAgImJ1YmJsaW5nTW91c2VFdmVudHMiOiB0cnVlLAogICJjb2xvciI6ICJ5ZWxsb3ciLAogICJkYXNoQXJyYXkiOiBudWxsLAogICJkYXNoT2Zmc2V0IjogbnVsbCwKICAiZmlsbCI6IHRydWUsCiAgImZpbGxDb2xvciI6ICJyZWQiLAogICJmaWxsT3BhY2l0eSI6IDAuNiwKICAiZmlsbFJ1bGUiOiAiZXZlbm9kZCIsCiAgImxpbmVDYXAiOiAicm91bmQiLAogICJsaW5lSm9pbiI6ICJyb3VuZCIsCiAgIm9wYWNpdHkiOiAxLjAsCiAgInJhZGl1cyI6IDUsCiAgInN0cm9rZSI6IHRydWUsCiAgIndlaWdodCI6IDMKfQogICAgICAgICAgICAgICAgKQogICAgICAgICAgICAgICAgLmFkZFRvKGZlYXR1cmVfZ3JvdXBfZTk5YWI3MzEyYmQxNGNjZmJmMjc0MzAyY2ZiNTFiNTkpOwogICAgICAgICAgICAKICAgIAogICAgICAgICAgICB2YXIgY2lyY2xlX21hcmtlcl9kM2RhYzhiNzg4ZTU0Y2E4ODJjMzYwMzdjNjZlYTM5OSA9IEwuY2lyY2xlTWFya2VyKAogICAgICAgICAgICAgICAgWzEwLjc3NDU5NjUsIDEwNi42Njc5NTQyXSwKICAgICAgICAgICAgICAgIHsKICAiYnViYmxpbmdNb3VzZUV2ZW50cyI6IHRydWUsCiAgImNvbG9yIjogInllbGxvdyIsCiAgImRhc2hBcnJheSI6IG51bGwsCiAgImRhc2hPZmZzZXQiOiBudWxsLAogICJmaWxsIjogdHJ1ZSwKICAiZmlsbENvbG9yIjogInJlZCIsCiAgImZpbGxPcGFjaXR5IjogMC42LAogICJmaWxsUnVsZSI6ICJldmVub2RkIiwKICAibGluZUNhcCI6ICJyb3VuZCIsCiAgImxpbmVKb2luIjogInJvdW5kIiwKICAib3BhY2l0eSI6IDEuMCwKICAicmFkaXVzIjogNSwKICAic3Ryb2tlIjogdHJ1ZSwKICAid2VpZ2h0IjogMwp9CiAgICAgICAgICAgICAgICApCiAgICAgICAgICAgICAgICAuYWRkVG8oZmVhdHVyZV9ncm91cF9lOTlhYjczMTJiZDE0Y2NmYmYyNzQzMDJjZmI1MWI1OSk7CiAgICAgICAgICAgIAogICAgCiAgICAgICAgICAgIHZhciBjaXJjbGVfbWFya2VyXzQ3MzRmZGM3MWRjZDRmNWFhMmNjYmZjMzkzYmQ2ODk2ID0gTC5jaXJjbGVNYXJrZXIoCiAgICAgICAgICAgICAgICBbMTAuNzYyOTczOSwgMTA2LjY1MDA4NF0sCiAgICAgICAgICAgICAgICB7CiAgImJ1YmJsaW5nTW91c2VFdmVudHMiOiB0cnVlLAogICJjb2xvciI6ICJ5ZWxsb3ciLAogICJkYXNoQXJyYXkiOiBudWxsLAogICJkYXNoT2Zmc2V0IjogbnVsbCwKICAiZmlsbCI6IHRydWUsCiAgImZpbGxDb2xvciI6ICJyZWQiLAogICJmaWxsT3BhY2l0eSI6IDAuNiwKICAiZmlsbFJ1bGUiOiAiZXZlbm9kZCIsCiAgImxpbmVDYXAiOiAicm91bmQiLAogICJsaW5lSm9pbiI6ICJyb3VuZCIsCiAgIm9wYWNpdHkiOiAxLjAsCiAgInJhZGl1cyI6IDUsCiAgInN0cm9rZSI6IHRydWUsCiAgIndlaWdodCI6IDMKfQogICAgICAgICAgICAgICAgKQogICAgICAgICAgICAgICAgLmFkZFRvKGZlYXR1cmVfZ3JvdXBfZTk5YWI3MzEyYmQxNGNjZmJmMjc0MzAyY2ZiNTFiNTkpOwogICAgICAgICAgICAKICAgIAogICAgICAgICAgICB2YXIgY2lyY2xlX21hcmtlcl8yNWE3OTAyY2M3ZTA0N2JlODRhZDU4ZDdkODM5OTgyMiA9IEwuY2lyY2xlTWFya2VyKAogICAgICAgICAgICAgICAgWzEwLjc1NzgyNjMsIDEwNi43MDEyOTY4XSwKICAgICAgICAgICAgICAgIHsKICAiYnViYmxpbmdNb3VzZUV2ZW50cyI6IHRydWUsCiAgImNvbG9yIjogInllbGxvdyIsCiAgImRhc2hBcnJheSI6IG51bGwsCiAgImRhc2hPZmZzZXQiOiBudWxsLAogICJmaWxsIjogdHJ1ZSwKICAiZmlsbENvbG9yIjogInJlZCIsCiAgImZpbGxPcGFjaXR5IjogMC42LAogICJmaWxsUnVsZSI6ICJldmVub2RkIiwKICAibGluZUNhcCI6ICJyb3VuZCIsCiAgImxpbmVKb2luIjogInJvdW5kIiwKICAib3BhY2l0eSI6IDEuMCwKICAicmFkaXVzIjogNSwKICAic3Ryb2tlIjogdHJ1ZSwKICAid2VpZ2h0IjogMwp9CiAgICAgICAgICAgICAgICApCiAgICAgICAgICAgICAgICAuYWRkVG8oZmVhdHVyZV9ncm91cF9lOTlhYjczMTJiZDE0Y2NmYmYyNzQzMDJjZmI1MWI1OSk7CiAgICAgICAgICAgIAogICAgCiAgICAgICAgICAgIHZhciBjaXJjbGVfbWFya2VyX2U5OGY5NDRhYzQ3NDQyMzY4ZTAzZjJmM2FiYjRkMDc0ID0gTC5jaXJjbGVNYXJrZXIoCiAgICAgICAgICAgICAgICBbMTAuNzU0MDI3OSwgMTA2LjY2MzM3NDZdLAogICAgICAgICAgICAgICAgewogICJidWJibGluZ01vdXNlRXZlbnRzIjogdHJ1ZSwKICAiY29sb3IiOiAieWVsbG93IiwKICAiZGFzaEFycmF5IjogbnVsbCwKICAiZGFzaE9mZnNldCI6IG51bGwsCiAgImZpbGwiOiB0cnVlLAogICJmaWxsQ29sb3IiOiAicmVkIiwKICAiZmlsbE9wYWNpdHkiOiAwLjYsCiAgImZpbGxSdWxlIjogImV2ZW5vZGQiLAogICJsaW5lQ2FwIjogInJvdW5kIiwKICAibGluZUpvaW4iOiAicm91bmQiLAogICJvcGFjaXR5IjogMS4wLAogICJyYWRpdXMiOiA1LAogICJzdHJva2UiOiB0cnVlLAogICJ3ZWlnaHQiOiAzCn0KICAgICAgICAgICAgICAgICkKICAgICAgICAgICAgICAgIC5hZGRUbyhmZWF0dXJlX2dyb3VwX2U5OWFiNzMxMmJkMTRjY2ZiZjI3NDMwMmNmYjUxYjU5KTsKICAgICAgICAgICAgCiAgICAKICAgICAgICAgICAgdmFyIGNpcmNsZV9tYXJrZXJfNGYwZWEzYzljNDI1NGY2MDk4YjY3NTAyNDFiN2EwNGMgPSBMLmNpcmNsZU1hcmtlcigKICAgICAgICAgICAgICAgIFsxMC43NDgwOTI5LCAxMDYuNjM1MjM2Ml0sCiAgICAgICAgICAgICAgICB7CiAgImJ1YmJsaW5nTW91c2VFdmVudHMiOiB0cnVlLAogICJjb2xvciI6ICJ5ZWxsb3ciLAogICJkYXNoQXJyYXkiOiBudWxsLAogICJkYXNoT2Zmc2V0IjogbnVsbCwKICAiZmlsbCI6IHRydWUsCiAgImZpbGxDb2xvciI6ICJyZWQiLAogICJmaWxsT3BhY2l0eSI6IDAuNiwKICAiZmlsbFJ1bGUiOiAiZXZlbm9kZCIsCiAgImxpbmVDYXAiOiAicm91bmQiLAogICJsaW5lSm9pbiI6ICJyb3VuZCIsCiAgIm9wYWNpdHkiOiAxLjAsCiAgInJhZGl1cyI6IDUsCiAgInN0cm9rZSI6IHRydWUsCiAgIndlaWdodCI6IDMKfQogICAgICAgICAgICAgICAgKQogICAgICAgICAgICAgICAgLmFkZFRvKGZlYXR1cmVfZ3JvdXBfZTk5YWI3MzEyYmQxNGNjZmJmMjc0MzAyY2ZiNTFiNTkpOwogICAgICAgICAgICAKICAgIAogICAgICAgICAgICB2YXIgY2lyY2xlX21hcmtlcl9kYTEzMTU2YmRhNTU0MWFiYWY1Zjg2NTVmOTE5MTc5OCA9IEwuY2lyY2xlTWFya2VyKAogICAgICAgICAgICAgICAgWzEwLjcyNDA4NzgsIDEwNi42Mjg2MjU5XSwKICAgICAgICAgICAgICAgIHsKICAiYnViYmxpbmdNb3VzZUV2ZW50cyI6IHRydWUsCiAgImNvbG9yIjogInllbGxvdyIsCiAgImRhc2hBcnJheSI6IG51bGwsCiAgImRhc2hPZmZzZXQiOiBudWxsLAogICJmaWxsIjogdHJ1ZSwKICAiZmlsbENvbG9yIjogInJlZCIsCiAgImZpbGxPcGFjaXR5IjogMC42LAogICJmaWxsUnVsZSI6ICJldmVub2RkIiwKICAibGluZUNhcCI6ICJyb3VuZCIsCiAgImxpbmVKb2luIjogInJvdW5kIiwKICAib3BhY2l0eSI6IDEuMCwKICAicmFkaXVzIjogNSwKICAic3Ryb2tlIjogdHJ1ZSwKICAid2VpZ2h0IjogMwp9CiAgICAgICAgICAgICAgICApCiAgICAgICAgICAgICAgICAuYWRkVG8oZmVhdHVyZV9ncm91cF9lOTlhYjczMTJiZDE0Y2NmYmYyNzQzMDJjZmI1MWI1OSk7CiAgICAgICAgICAgIAogICAgCiAgICAgICAgICAgIHZhciBjaXJjbGVfbWFya2VyXzY3ZDgzNDk1ZGI2MjRkNGY4MWVkOGI0NTc5YzVjNmUxID0gTC5jaXJjbGVNYXJrZXIoCiAgICAgICAgICAgICAgICBbMTAuNzY1MjU4MSwgMTA2LjYwMzg1MzVdLAogICAgICAgICAgICAgICAgewogICJidWJibGluZ01vdXNlRXZlbnRzIjogdHJ1ZSwKICAiY29sb3IiOiAieWVsbG93IiwKICAiZGFzaEFycmF5IjogbnVsbCwKICAiZGFzaE9mZnNldCI6IG51bGwsCiAgImZpbGwiOiB0cnVlLAogICJmaWxsQ29sb3IiOiAicmVkIiwKICAiZmlsbE9wYWNpdHkiOiAwLjYsCiAgImZpbGxSdWxlIjogImV2ZW5vZGQiLAogICJsaW5lQ2FwIjogInJvdW5kIiwKICAibGluZUpvaW4iOiAicm91bmQiLAogICJvcGFjaXR5IjogMS4wLAogICJyYWRpdXMiOiA1LAogICJzdHJva2UiOiB0cnVlLAogICJ3ZWlnaHQiOiAzCn0KICAgICAgICAgICAgICAgICkKICAgICAgICAgICAgICAgIC5hZGRUbyhmZWF0dXJlX2dyb3VwX2U5OWFiNzMxMmJkMTRjY2ZiZjI3NDMwMmNmYjUxYjU5KTsKICAgICAgICAgICAgCiAgICAKICAgICAgICAgICAgdmFyIGNpcmNsZV9tYXJrZXJfMTJiY2RlOTZiNDI2NDc0N2I0N2FiYmU5YzkxZmQwZjQgPSBMLmNpcmNsZU1hcmtlcigKICAgICAgICAgICAgICAgIFsxMC43MzQwMzQ0LCAxMDYuNzIxNTc4N10sCiAgICAgICAgICAgICAgICB7CiAgImJ1YmJsaW5nTW91c2VFdmVudHMiOiB0cnVlLAogICJjb2xvciI6ICJ5ZWxsb3ciLAogICJkYXNoQXJyYXkiOiBudWxsLAogICJkYXNoT2Zmc2V0IjogbnVsbCwKICAiZmlsbCI6IHRydWUsCiAgImZpbGxDb2xvciI6ICJyZWQiLAogICJmaWxsT3BhY2l0eSI6IDAuNiwKICAiZmlsbFJ1bGUiOiAiZXZlbm9kZCIsCiAgImxpbmVDYXAiOiAicm91bmQiLAogICJsaW5lSm9pbiI6ICJyb3VuZCIsCiAgIm9wYWNpdHkiOiAxLjAsCiAgInJhZGl1cyI6IDUsCiAgInN0cm9rZSI6IHRydWUsCiAgIndlaWdodCI6IDMKfQogICAgICAgICAgICAgICAgKQogICAgICAgICAgICAgICAgLmFkZFRvKGZlYXR1cmVfZ3JvdXBfZTk5YWI3MzEyYmQxNGNjZmJmMjc0MzAyY2ZiNTFiNTkpOwogICAgICAgICAgICAKICAgIAogICAgICAgICAgICB2YXIgY2lyY2xlX21hcmtlcl9hMTgzMDE3NmU4NmM0ZDI3YmNmNTQ4NGU0ODNhZTE1YyA9IEwuY2lyY2xlTWFya2VyKAogICAgICAgICAgICAgICAgWzExLjAwNjY2ODMsIDEwNi41MTMxOTY3XSwKICAgICAgICAgICAgICAgIHsKICAiYnViYmxpbmdNb3VzZUV2ZW50cyI6IHRydWUsCiAgImNvbG9yIjogInllbGxvdyIsCiAgImRhc2hBcnJheSI6IG51bGwsCiAgImRhc2hPZmZzZXQiOiBudWxsLAogICJmaWxsIjogdHJ1ZSwKICAiZmlsbENvbG9yIjogInJlZCIsCiAgImZpbGxPcGFjaXR5IjogMC42LAogICJmaWxsUnVsZSI6ICJldmVub2RkIiwKICAibGluZUNhcCI6ICJyb3VuZCIsCiAgImxpbmVKb2luIjogInJvdW5kIiwKICAib3BhY2l0eSI6IDEuMCwKICAicmFkaXVzIjogNSwKICAic3Ryb2tlIjogdHJ1ZSwKICAid2VpZ2h0IjogMwp9CiAgICAgICAgICAgICAgICApCiAgICAgICAgICAgICAgICAuYWRkVG8oZmVhdHVyZV9ncm91cF9lOTlhYjczMTJiZDE0Y2NmYmYyNzQzMDJjZmI1MWI1OSk7CiAgICAgICAgICAgIAogICAgCiAgICAgICAgICAgIHZhciBjaXJjbGVfbWFya2VyXzc5ZDQyZTdkMzdiOTRkMjFhYzFmMzI4NjFkMmZmYmVmID0gTC5jaXJjbGVNYXJrZXIoCiAgICAgICAgICAgICAgICBbMTAuODgzOTY3NSwgMTA2LjU4NzA2MTFdLAogICAgICAgICAgICAgICAgewogICJidWJibGluZ01vdXNlRXZlbnRzIjogdHJ1ZSwKICAiY29sb3IiOiAieWVsbG93IiwKICAiZGFzaEFycmF5IjogbnVsbCwKICAiZGFzaE9mZnNldCI6IG51bGwsCiAgImZpbGwiOiB0cnVlLAogICJmaWxsQ29sb3IiOiAicmVkIiwKICAiZmlsbE9wYWNpdHkiOiAwLjYsCiAgImZpbGxSdWxlIjogImV2ZW5vZGQiLAogICJsaW5lQ2FwIjogInJvdW5kIiwKICAibGluZUpvaW4iOiAicm91bmQiLAogICJvcGFjaXR5IjogMS4wLAogICJyYWRpdXMiOiA1LAogICJzdHJva2UiOiB0cnVlLAogICJ3ZWlnaHQiOiAzCn0KICAgICAgICAgICAgICAgICkKICAgICAgICAgICAgICAgIC5hZGRUbyhmZWF0dXJlX2dyb3VwX2U5OWFiNzMxMmJkMTRjY2ZiZjI3NDMwMmNmYjUxYjU5KTsKICAgICAgICAgICAgCiAgICAKICAgICAgICAgICAgdmFyIGNpcmNsZV9tYXJrZXJfODFiYjg0NjJhNjk2NDNkOWJhYTZjYjcxZmIxMzQzMDQgPSBMLmNpcmNsZU1hcmtlcigKICAgICAgICAgICAgICAgIFsxMC42ODczOTIsIDEwNi41OTM4NTM4XSwKICAgICAgICAgICAgICAgIHsKICAiYnViYmxpbmdNb3VzZUV2ZW50cyI6IHRydWUsCiAgImNvbG9yIjogInllbGxvdyIsCiAgImRhc2hBcnJheSI6IG51bGwsCiAgImRhc2hPZmZzZXQiOiBudWxsLAogICJmaWxsIjogdHJ1ZSwKICAiZmlsbENvbG9yIjogInJlZCIsCiAgImZpbGxPcGFjaXR5IjogMC42LAogICJmaWxsUnVsZSI6ICJldmVub2RkIiwKICAibGluZUNhcCI6ICJyb3VuZCIsCiAgImxpbmVKb2luIjogInJvdW5kIiwKICAib3BhY2l0eSI6IDEuMCwKICAicmFkaXVzIjogNSwKICAic3Ryb2tlIjogdHJ1ZSwKICAid2VpZ2h0IjogMwp9CiAgICAgICAgICAgICAgICApCiAgICAgICAgICAgICAgICAuYWRkVG8oZmVhdHVyZV9ncm91cF9lOTlhYjczMTJiZDE0Y2NmYmYyNzQzMDJjZmI1MWI1OSk7CiAgICAgICAgICAgIAogICAgCiAgICAgICAgICAgIHZhciBjaXJjbGVfbWFya2VyXzMyYzZkYzQwMGEyODQ2ZDhhOTgzYjllOTAyMWRmYTE5ID0gTC5jaXJjbGVNYXJrZXIoCiAgICAgICAgICAgICAgICBbMTAuNjk1MjY0MiwgMTA2LjcwNDg3NF0sCiAgICAgICAgICAgICAgICB7CiAgImJ1YmJsaW5nTW91c2VFdmVudHMiOiB0cnVlLAogICJjb2xvciI6ICJ5ZWxsb3ciLAogICJkYXNoQXJyYXkiOiBudWxsLAogICJkYXNoT2Zmc2V0IjogbnVsbCwKICAiZmlsbCI6IHRydWUsCiAgImZpbGxDb2xvciI6ICJyZWQiLAogICJmaWxsT3BhY2l0eSI6IDAuNiwKICAiZmlsbFJ1bGUiOiAiZXZlbm9kZCIsCiAgImxpbmVDYXAiOiAicm91bmQiLAogICJsaW5lSm9pbiI6ICJyb3VuZCIsCiAgIm9wYWNpdHkiOiAxLjAsCiAgInJhZGl1cyI6IDUsCiAgInN0cm9rZSI6IHRydWUsCiAgIndlaWdodCI6IDMKfQogICAgICAgICAgICAgICAgKQogICAgICAgICAgICAgICAgLmFkZFRvKGZlYXR1cmVfZ3JvdXBfZTk5YWI3MzEyYmQxNGNjZmJmMjc0MzAyY2ZiNTFiNTkpOwogICAgICAgICAgICAKICAgIAogICAgICAgICAgICB2YXIgY2lyY2xlX21hcmtlcl81YjRlNmEzZDZjNzY0MTJhYWE5YTJjN2NiYTA4YzIzMyA9IEwuY2lyY2xlTWFya2VyKAogICAgICAgICAgICAgICAgWzEwLjUwODMyNjYsIDEwNi44NjM1MDA0XSwKICAgICAgICAgICAgICAgIHsKICAiYnViYmxpbmdNb3VzZUV2ZW50cyI6IHRydWUsCiAgImNvbG9yIjogInllbGxvdyIsCiAgImRhc2hBcnJheSI6IG51bGwsCiAgImRhc2hPZmZzZXQiOiBudWxsLAogICJmaWxsIjogdHJ1ZSwKICAiZmlsbENvbG9yIjogInJlZCIsCiAgImZpbGxPcGFjaXR5IjogMC42LAogICJmaWxsUnVsZSI6ICJldmVub2RkIiwKICAibGluZUNhcCI6ICJyb3VuZCIsCiAgImxpbmVKb2luIjogInJvdW5kIiwKICAib3BhY2l0eSI6IDEuMCwKICAicmFkaXVzIjogNSwKICAic3Ryb2tlIjogdHJ1ZSwKICAid2VpZ2h0IjogMwp9CiAgICAgICAgICAgICAgICApCiAgICAgICAgICAgICAgICAuYWRkVG8oZmVhdHVyZV9ncm91cF9lOTlhYjczMTJiZDE0Y2NmYmYyNzQzMDJjZmI1MWI1OSk7CiAgICAgICAgICAgIAo8L3NjcmlwdD4=\" style=\"position:absolute;width:100%;height:100%;left:0;top:0;border:none !important;\" allowfullscreen webkitallowfullscreen mozallowfullscreen></iframe></div></div>"
      ],
      "text/plain": [
       "<folium.folium.Map at 0x125a1048>"
      ]
     },
     "execution_count": 10,
     "metadata": {},
     "output_type": "execute_result"
    }
   ],
   "source": [
    "\n",
    "# instantiate a feature group for the district in the dataframe\n",
    "districts = folium.map.FeatureGroup()\n",
    "# loop through the dictricts and add each to the dictrict feature group\n",
    "for lat, lng, in zip(df_hcm.Latitude, df_hcm.Longitude):\n",
    "    districts.add_child(\n",
    "        folium.CircleMarker(\n",
    "            [lat, lng],\n",
    "            radius=5, # define how big you want the circle markers to be\n",
    "            color='yellow',\n",
    "            fill=True,\n",
    "            fill_color='red',\n",
    "            fill_opacity=0.6\n",
    "        )\n",
    "    )\n",
    "# add dictricts to map\n",
    "hcm_map.add_child(districts)"
   ]
  },
  {
   "cell_type": "code",
   "execution_count": 11,
   "metadata": {},
   "outputs": [],
   "source": [
    "hcm_map = folium.Map(location=[hcm_latitude, hcm_longitude], zoom_start=12)"
   ]
  },
  {
   "cell_type": "code",
   "execution_count": 12,
   "metadata": {},
   "outputs": [
    {
     "data": {
      "text/html": [
       "<div style=\"width:100%;\"><div style=\"position:relative;width:100%;height:0;padding-bottom:60%;\"><iframe src=\"data:text/html;charset=utf-8;base64,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\" style=\"position:absolute;width:100%;height:100%;left:0;top:0;border:none !important;\" allowfullscreen webkitallowfullscreen mozallowfullscreen></iframe></div></div>"
      ],
      "text/plain": [
       "<folium.folium.Map at 0x1257a080>"
      ]
     },
     "execution_count": 12,
     "metadata": {},
     "output_type": "execute_result"
    }
   ],
   "source": [
    "# instantiate a feature group for the dictricts  in the dataframe\n",
    "dictricts = folium.map.FeatureGroup()\n",
    "\n",
    "# loop through the district and add each to the dictricts feature group\n",
    "for lat, lng, in zip(df_hcm.Latitude, df_hcm.Longitude):\n",
    "    districts.add_child(\n",
    "        folium.CircleMarker(\n",
    "            [lat, lng],\n",
    "            radius=5, # define how big you want the circle markers to be\n",
    "            color='yellow',\n",
    "            fill=True,\n",
    "            fill_color='green',\n",
    "            fill_opacity=0.6\n",
    "        )\n",
    "    )\n",
    "# add pop-up text to each marker on the map\n",
    "latitudes = list(df_hcm.Latitude)\n",
    "longitudes = list(df_hcm.Longitude)\n",
    "labels = list(df_hcm.Name)\n",
    "\n",
    "for lat, lng, label in zip(latitudes, longitudes, labels):\n",
    "    folium.Marker([lat, lng], popup=label).add_to(hcm_map)    \n",
    "    \n",
    "# add dictricts to map\n",
    "hcm_map.add_child(dictricts)"
   ]
  },
  {
   "cell_type": "code",
   "execution_count": null,
   "metadata": {},
   "outputs": [],
   "source": []
  }
 ],
 "metadata": {
  "kernelspec": {
   "display_name": "Python 3",
   "language": "python",
   "name": "python3"
  },
  "language_info": {
   "codemirror_mode": {
    "name": "ipython",
    "version": 3
   },
   "file_extension": ".py",
   "mimetype": "text/x-python",
   "name": "python",
   "nbconvert_exporter": "python",
   "pygments_lexer": "ipython3",
   "version": "3.6.8"
  }
 },
 "nbformat": 4,
 "nbformat_minor": 2
}
