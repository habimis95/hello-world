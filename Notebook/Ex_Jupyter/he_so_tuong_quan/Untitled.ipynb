{
 "cells": [
  {
   "cell_type": "code",
   "execution_count": 1,
   "metadata": {},
   "outputs": [],
   "source": [
    "import numpy as np"
   ]
  },
  {
   "cell_type": "code",
   "execution_count": 2,
   "metadata": {},
   "outputs": [],
   "source": [
    "x = np.array([1,2,3,4,5])\n",
    "y = np.array([3,4,5,6,7])"
   ]
  },
  {
   "cell_type": "code",
   "execution_count": 3,
   "metadata": {},
   "outputs": [
    {
     "name": "stdout",
     "output_type": "stream",
     "text": [
      "mean x: 3.0\n",
      "mean y: 5.0\n"
     ]
    }
   ],
   "source": [
    "x_ = x.mean()\n",
    "y_ = y.mean()\n",
    "print('mean x:',x_)\n",
    "print('mean y:',y_)"
   ]
  },
  {
   "cell_type": "code",
   "execution_count": 5,
   "metadata": {},
   "outputs": [
    {
     "name": "stdout",
     "output_type": "stream",
     "text": [
      "[4. 1. 0. 1. 4.]\n",
      "tu so: 10.0\n"
     ]
    }
   ],
   "source": [
    "tu_so = (x-x_)*(y-y_)\n",
    "print(tu_so)\n",
    "tu_so = tu_so.sum()\n",
    "print('tu so:',tu_so)"
   ]
  },
  {
   "cell_type": "code",
   "execution_count": null,
   "metadata": {},
   "outputs": [],
   "source": [
    "mau_so = np.sqrt() ((x-x_)*(x-x_)).sum()*((y-y_)*(y-y_)).sum()"
   ]
  }
 ],
 "metadata": {
  "kernelspec": {
   "display_name": "Python 3",
   "language": "python",
   "name": "python3"
  },
  "language_info": {
   "codemirror_mode": {
    "name": "ipython",
    "version": 3
   },
   "file_extension": ".py",
   "mimetype": "text/x-python",
   "name": "python",
   "nbconvert_exporter": "python",
   "pygments_lexer": "ipython3",
   "version": "3.6.5"
  }
 },
 "nbformat": 4,
 "nbformat_minor": 2
}
