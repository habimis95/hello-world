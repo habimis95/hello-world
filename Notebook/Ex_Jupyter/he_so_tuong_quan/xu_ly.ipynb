{
 "cells": [
  {
   "cell_type": "code",
   "execution_count": 11,
   "metadata": {},
   "outputs": [],
   "source": [
    "import numpy as np"
   ]
  },
  {
   "cell_type": "code",
   "execution_count": 12,
   "metadata": {},
   "outputs": [],
   "source": [
    "x = np.array([1,4,6])\n",
    "y = np.array([1,2,3])"
   ]
  },
  {
   "cell_type": "code",
   "execution_count": 13,
   "metadata": {},
   "outputs": [
    {
     "name": "stdout",
     "output_type": "stream",
     "text": [
      "mean x: 3.6666666666666665\n",
      "mean y: 2.0\n"
     ]
    }
   ],
   "source": [
    "x_ = x.mean()\n",
    "y_ = y.mean()\n",
    "print('mean x:',x_)\n",
    "print('mean y:',y_)"
   ]
  },
  {
   "cell_type": "code",
   "execution_count": 14,
   "metadata": {},
   "outputs": [
    {
     "name": "stdout",
     "output_type": "stream",
     "text": [
      "tu so: 5.0\n"
     ]
    }
   ],
   "source": [
    "tu_so = (x-x_)*(y-y_)\n",
    "tu_so = tu_so.sum()\n",
    "print('tu so:',tu_so)"
   ]
  },
  {
   "cell_type": "code",
   "execution_count": 15,
   "metadata": {},
   "outputs": [
    {
     "name": "stdout",
     "output_type": "stream",
     "text": [
      "mau so: 5.033222956847167\n"
     ]
    }
   ],
   "source": [
    "mau_so = np.sqrt(((x-x_)*(x-x_)).sum()*((y-y_)*(y-y_)).sum())\n",
    "print('mau so:',mau_so)"
   ]
  },
  {
   "cell_type": "code",
   "execution_count": 16,
   "metadata": {},
   "outputs": [
    {
     "name": "stdout",
     "output_type": "stream",
     "text": [
      "r= 0.9933992677987827\n"
     ]
    }
   ],
   "source": [
    "r = tu_so/mau_so\n",
    "print('r=',r)"
   ]
  },
  {
   "cell_type": "code",
   "execution_count": 17,
   "metadata": {},
   "outputs": [
    {
     "name": "stdout",
     "output_type": "stream",
     "text": [
      "r= [[1.         0.99339927]\n",
      " [0.99339927 1.        ]]\n"
     ]
    }
   ],
   "source": [
    "r = np.corrcoef(x,y)\n",
    "print('r=',r)"
   ]
  },
  {
   "cell_type": "code",
   "execution_count": null,
   "metadata": {},
   "outputs": [],
   "source": []
  }
 ],
 "metadata": {
  "kernelspec": {
   "display_name": "Python 3",
   "language": "python",
   "name": "python3"
  },
  "language_info": {
   "codemirror_mode": {
    "name": "ipython",
    "version": 3
   },
   "file_extension": ".py",
   "mimetype": "text/x-python",
   "name": "python",
   "nbconvert_exporter": "python",
   "pygments_lexer": "ipython3",
   "version": "3.6.5"
  }
 },
 "nbformat": 4,
 "nbformat_minor": 2
}
