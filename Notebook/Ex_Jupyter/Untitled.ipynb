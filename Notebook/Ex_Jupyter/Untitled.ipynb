{
 "cells": [
  {
   "cell_type": "markdown",
   "metadata": {},
   "source": [
    "1. [Udemy.com] (https://wwww.udemy.com/)\n",
    "2. [BigData University] (https://wwww.cognitiveclass.ai/)\n",
    "3. [tuoitre.vn] (https://wwww.tuoitre.vn/)\n",
    "4. [google.com] (https://wwww.google.com/)\n",
    "5. [vnexpress.net] (https://wwww.vnexpress.net/)"
   ]
  },
  {
   "cell_type": "markdown",
   "metadata": {},
   "source": [
    "__Thomas Alva Edison (February 11, 1847 - October 18, 1931)__\n",
    "![image](https://cdn-images-1.medium.com/max/1000/1*s2GyMoLeSV3Epc2Gk3qBXA.png)\n",
    "[Visit Thomas Edison Wikipedia] (https://en.wikipedia.org/wiki/Thomas_Edison)\n",
    "   <ul>\n",
    "   <li>Born: Thomas ALva Edison, February 11, 1847, Milan, Ohio, U.S</li>\n",
    "   <li>Died: October 18, 1931 (aged 84), West Orange, New Jersey, U.S</li>\n",
    "   <li>Burial place: Thomas Edison National Historical Park, Nationality American</li>\n",
    "   <li>Education: Self-educated</li>\n",
    "</ul> "
   ]
  },
  {
   "cell_type": "markdown",
   "metadata": {},
   "source": [
    "<ul>\n",
    "   <li>Born: Thomas ALva Edison, February 11, 1847, Milan, Ohio, U.S</li>\n",
    "   <li>Died: October 18, 1931 (aged 84), West Orange, New Jersey, U.S</li>\n",
    "   <li>Burial place: Thomas Edison National Historical Park, Nationality American</li>\n",
    "   <li>Education: Self-educated</li>\n",
    "</ul> "
   ]
  },
  {
   "cell_type": "code",
   "execution_count": null,
   "metadata": {},
   "outputs": [],
   "source": []
  },
  {
   "cell_type": "code",
   "execution_count": null,
   "metadata": {},
   "outputs": [],
   "source": []
  },
  {
   "cell_type": "code",
   "execution_count": null,
   "metadata": {},
   "outputs": [],
   "source": []
  }
 ],
 "metadata": {
  "kernelspec": {
   "display_name": "Python 3",
   "language": "python",
   "name": "python3"
  },
  "language_info": {
   "codemirror_mode": {
    "name": "ipython",
    "version": 3
   },
   "file_extension": ".py",
   "mimetype": "text/x-python",
   "name": "python",
   "nbconvert_exporter": "python",
   "pygments_lexer": "ipython3",
   "version": "3.6.8"
  }
 },
 "nbformat": 4,
 "nbformat_minor": 2
}
